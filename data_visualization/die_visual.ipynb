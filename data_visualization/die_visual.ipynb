{
 "cells": [
  {
   "cell_type": "markdown",
   "metadata": {},
   "source": [
    "# Rolling the Die"
   ]
  },
  {
   "cell_type": "code",
   "execution_count": null,
   "metadata": {},
   "outputs": [
    {
     "data": {
      "text/plain": [
       "'d6.html'"
      ]
     },
     "execution_count": 1,
     "metadata": {},
     "output_type": "execute_result"
    }
   ],
   "source": [
    "from plotly.graph_objects import Bar, Layout\n",
    "from plotly import offline\n",
    "\n",
    "from die import Die\n",
    "\n",
    "# Create a D6\n",
    "die = Die()\n",
    "\n",
    "# Make some rolls, and store results in a list.\n",
    "results = []\n",
    "for _ in range(1000):\n",
    "    results.append(die.roll())\n",
    "    \n",
    "# print(results)\n",
    "\n",
    "# Analyze the results.\n",
    "frequencies = []\n",
    "for value in range(1, die.num_sides + 1):\n",
    "    frequency = results.count(value)\n",
    "    frequencies.append(frequency)\n",
    "\n",
    "# print(frequencies)\n",
    "\n",
    "# Visualize the results.\n",
    "x_values = list(range(1, die.num_sides+1))\n",
    "data = [Bar(x=x_values, y=frequencies)]\n",
    "x_axis_config = {'title': 'Result'}\n",
    "y_axis_config = {'title': 'Frequency of Result'}\n",
    "\n",
    "my_layout = Layout(title='Results of rolling one D6 1000 times',\n",
    "        xaxis=x_axis_config, yaxis=y_axis_config)\n",
    "\n",
    "offline.plot({'data': data, 'layout': my_layout}, filename='html/d6.html', auto_open=False)\n"
   ]
  }
 ],
 "metadata": {
  "kernelspec": {
   "display_name": "data-visualization-eGSnEHnq-py3.12",
   "language": "python",
   "name": "python3"
  },
  "language_info": {
   "codemirror_mode": {
    "name": "ipython",
    "version": 3
   },
   "file_extension": ".py",
   "mimetype": "text/x-python",
   "name": "python",
   "nbconvert_exporter": "python",
   "pygments_lexer": "ipython3",
   "version": "3.12.3"
  }
 },
 "nbformat": 4,
 "nbformat_minor": 2
}
